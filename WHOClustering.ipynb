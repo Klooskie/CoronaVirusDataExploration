{
 "cells": [
  {
   "cell_type": "code",
   "execution_count": 47,
   "metadata": {},
   "outputs": [],
   "source": [
    "import numpy as np\n",
    "import matplotlib.pyplot as plt\n",
    "import pandas as pd\n",
    "import os\n",
    "from pprint import pprint\n",
    "from datetime import datetime\n",
    "from sklearn.cluster import KMeans\n",
    "from sklearn.metrics import davies_bouldin_score\n",
    "\n",
    "plt.rcParams[\"figure.figsize\"] = (16, 10)"
   ]
  },
  {
   "cell_type": "markdown",
   "metadata": {},
   "source": [
    "# Reading reports from file"
   ]
  },
  {
   "cell_type": "code",
   "execution_count": 48,
   "metadata": {},
   "outputs": [],
   "source": [
    "who_daily_reports_dir_name = \"who_daily_reports\""
   ]
  },
  {
   "cell_type": "code",
   "execution_count": 49,
   "metadata": {},
   "outputs": [],
   "source": [
    "column_names = ['Province/State', 'Country/Region', 'Confirmed', 'Deaths', 'Recovered']\n",
    "new_column_names = ['Province_State', 'Country_Region', 'Confirmed', 'Deaths', 'Recovered']\n",
    "\n",
    "reports_files_names = sorted(os.listdir(who_daily_reports_dir_name))\n",
    "reports = []\n",
    "for report_file_name in reports_files_names:\n",
    "    date = datetime.strptime(report_file_name[:-4], '%m-%d-%Y')\n",
    "    dataframe = pd.read_csv(os.path.join(who_daily_reports_dir_name, report_file_name))\n",
    "    \n",
    "    try:\n",
    "        dataframe = dataframe[column_names]\n",
    "    except KeyError:\n",
    "        dataframe = dataframe[new_column_names]\n",
    "        dataframe = dataframe.rename(columns={'Province_State': 'Province/State', 'Country_Region': 'Country/Region'})\n",
    "    \n",
    "    dataframe['Province/State'].fillna(\"NotSpecified\", inplace=True)\n",
    "    dataframe.fillna(0, inplace=True)\n",
    "\n",
    "    dataframe = dataframe.astype({'Confirmed': 'int32', 'Deaths': 'int32', 'Recovered': 'int32'}, copy=False)\n",
    "    \n",
    "    reports.append((date, dataframe))\n",
    "    \n",
    "reports = np.array(reports)"
   ]
  },
  {
   "cell_type": "code",
   "execution_count": 50,
   "metadata": {},
   "outputs": [
    {
     "data": {
      "text/html": [
       "<div>\n",
       "<style scoped>\n",
       "    .dataframe tbody tr th:only-of-type {\n",
       "        vertical-align: middle;\n",
       "    }\n",
       "\n",
       "    .dataframe tbody tr th {\n",
       "        vertical-align: top;\n",
       "    }\n",
       "\n",
       "    .dataframe thead th {\n",
       "        text-align: right;\n",
       "    }\n",
       "</style>\n",
       "<table border=\"1\" class=\"dataframe\">\n",
       "  <thead>\n",
       "    <tr style=\"text-align: right;\">\n",
       "      <th></th>\n",
       "      <th>Province/State</th>\n",
       "      <th>Country/Region</th>\n",
       "      <th>Confirmed</th>\n",
       "      <th>Deaths</th>\n",
       "      <th>Recovered</th>\n",
       "    </tr>\n",
       "  </thead>\n",
       "  <tbody>\n",
       "    <tr>\n",
       "      <th>0</th>\n",
       "      <td>South Carolina</td>\n",
       "      <td>United States</td>\n",
       "      <td>22</td>\n",
       "      <td>0</td>\n",
       "      <td>0</td>\n",
       "    </tr>\n",
       "    <tr>\n",
       "      <th>1</th>\n",
       "      <td>Louisiana</td>\n",
       "      <td>United States</td>\n",
       "      <td>117</td>\n",
       "      <td>7</td>\n",
       "      <td>0</td>\n",
       "    </tr>\n",
       "    <tr>\n",
       "      <th>2</th>\n",
       "      <td>Virginia</td>\n",
       "      <td>United States</td>\n",
       "      <td>59</td>\n",
       "      <td>1</td>\n",
       "      <td>0</td>\n",
       "    </tr>\n",
       "    <tr>\n",
       "      <th>3</th>\n",
       "      <td>Idaho</td>\n",
       "      <td>United States</td>\n",
       "      <td>622</td>\n",
       "      <td>12</td>\n",
       "      <td>0</td>\n",
       "    </tr>\n",
       "    <tr>\n",
       "      <th>4</th>\n",
       "      <td>Iowa</td>\n",
       "      <td>United States</td>\n",
       "      <td>1</td>\n",
       "      <td>0</td>\n",
       "      <td>0</td>\n",
       "    </tr>\n",
       "  </tbody>\n",
       "</table>\n",
       "</div>"
      ],
      "text/plain": [
       "   Province/State Country/Region  Confirmed  Deaths  Recovered\n",
       "0  South Carolina  United States         22       0          0\n",
       "1       Louisiana  United States        117       7          0\n",
       "2        Virginia  United States         59       1          0\n",
       "3           Idaho  United States        622      12          0\n",
       "4            Iowa  United States          1       0          0"
      ]
     },
     "execution_count": 50,
     "metadata": {},
     "output_type": "execute_result"
    }
   ],
   "source": [
    "reports[-1, 1].head()"
   ]
  },
  {
   "cell_type": "markdown",
   "metadata": {},
   "source": [
    "# Getting all countries from the reports"
   ]
  },
  {
   "cell_type": "code",
   "execution_count": 51,
   "metadata": {},
   "outputs": [],
   "source": [
    "def get_all_countries():\n",
    "    countries = []\n",
    "    for report in reports[:, 1]:\n",
    "        column_values = report[[\"Country/Region\"]].values\n",
    "        countries += np.unique(column_values).tolist()\n",
    "    return np.unique(countries)\n",
    "    \n",
    "countries = get_all_countries()"
   ]
  },
  {
   "cell_type": "markdown",
   "metadata": {},
   "source": [
    "# Getting characteristic for all countries"
   ]
  },
  {
   "cell_type": "code",
   "execution_count": 52,
   "metadata": {},
   "outputs": [],
   "source": [
    "CONFIRMED = \"Confirmed\"\n",
    "DEATHS = \"Deaths\"\n",
    "RECOVERED = \"Recovered\"\n",
    "\n",
    "countres_characteristic  = {}\n",
    "for country in countries:\n",
    "    countres_characteristic[country] = {CONFIRMED:[], DEATHS:[], RECOVERED: []}\n",
    "\n",
    "for report in reports[:, 1]:\n",
    "    region_aggregated_stats = report.groupby('Country/Region').sum()\n",
    "    for index, row in region_aggregated_stats.iterrows():\n",
    "        countres_characteristic[index][CONFIRMED].append(row[CONFIRMED])\n",
    "        countres_characteristic[index][DEATHS].append(row[DEATHS])\n",
    "        countres_characteristic[index][RECOVERED].append(row[RECOVERED])\n",
    "\n",
    "# pprint(countres_characteristic)"
   ]
  },
  {
   "cell_type": "markdown",
   "metadata": {},
   "source": [
    "# Filtering countries which meet the constraints\n",
    "\n",
    "1. The epidemy starts when there are epidemy_start_cases_number number of cases.\n",
    "2. Epidemy lasts for at least day_range days."
   ]
  },
  {
   "cell_type": "code",
   "execution_count": 53,
   "metadata": {},
   "outputs": [],
   "source": [
    "countries_with_enough_data = {}\n",
    "\n",
    "epidemy_start_cases_number = 20\n",
    "day_range = 30\n",
    "\n",
    "for country, data in countres_characteristic.items():\n",
    "    confirmed = [i for i in data[CONFIRMED] if i >= epidemy_start_cases_number]\n",
    "    epidemy_days = len(confirmed)\n",
    "    if  epidemy_days < day_range:\n",
    "        continue\n",
    "    confirmed = confirmed[:30]\n",
    "    deaths = data[DEATHS][-epidemy_days:]\n",
    "    deaths = deaths[:30]\n",
    "    recovered = data[RECOVERED][-epidemy_days:]\n",
    "    recovered = recovered[:30]\n",
    "    countries_with_enough_data[country] = {CONFIRMED : confirmed, DEATHS : deaths, RECOVERED : recovered}\n",
    "#     print(len(confirmed), len(deaths), len(recovered))"
   ]
  },
  {
   "cell_type": "markdown",
   "metadata": {},
   "source": [
    "# Creating countries characteristics vector"
   ]
  },
  {
   "cell_type": "code",
   "execution_count": 54,
   "metadata": {},
   "outputs": [
    {
     "data": {
      "text/plain": [
       "(121, 87)"
      ]
     },
     "execution_count": 54,
     "metadata": {},
     "output_type": "execute_result"
    }
   ],
   "source": [
    "vectors = []\n",
    "countries = []\n",
    "for country, data in countries_with_enough_data.items():\n",
    "    vector = []\n",
    "    for day in range (1,day_range):\n",
    "        vector.append((data[CONFIRMED][day] - data[CONFIRMED][day - 1])/ data[CONFIRMED][day - 1])\n",
    "    for day in range (1,day_range):\n",
    "        if(data[DEATHS][day - 1] == 0):\n",
    "            vector.append(0)\n",
    "        else:\n",
    "            vector.append((data[DEATHS][day] - data[DEATHS][day - 1])/ data[DEATHS][day - 1])\n",
    "    for day in range (1,day_range):\n",
    "        if(data[RECOVERED][day - 1] == 0):\n",
    "            vector.append(0)\n",
    "        else:\n",
    "            vector.append((data[RECOVERED][day] - data[RECOVERED][day - 1])/ data[RECOVERED][day - 1])\n",
    "    vectors.append(vector)\n",
    "    countries.append(country)\n",
    "vectors = np.array(vectors)\n",
    "vectors.shape"
   ]
  },
  {
   "cell_type": "markdown",
   "metadata": {},
   "source": [
    "# Clustering"
   ]
  },
  {
   "cell_type": "code",
   "execution_count": 55,
   "metadata": {},
   "outputs": [
    {
     "name": "stderr",
     "output_type": "stream",
     "text": [
      "/home/julia/.local/lib/python3.6/site-packages/ipykernel_launcher.py:23: MatplotlibDeprecationWarning: Adding an axes using the same arguments as a previous axes currently reuses the earlier instance.  In a future version, a new instance will always be created and returned.  Meanwhile, this warning can be suppressed, and the future behavior ensured, by passing a unique label to each axes instance.\n"
     ]
    },
    {
     "data": {
      "image/png": "[encoded data removed]",
      "text/plain": [
       "<Figure size 1152x720 with 1 Axes>"
      ]
     },
     "metadata": {
      "needs_background": "light"
     },
     "output_type": "display_data"
    }
   ],
   "source": [
    "def get_score(ds,clusters):\n",
    "    kmeans = KMeans(n_clusters=clusters, n_init = 5).fit(ds)\n",
    "    labels = kmeans.labels_\n",
    "    return davies_bouldin_score(ds, labels)\n",
    "\n",
    "def get_score_for_number_of_clusters(ds):\n",
    "    results = []\n",
    "    errors = []\n",
    "    number_of_tries = 50\n",
    "    for clusters in range(2, 20):\n",
    "        result = []\n",
    "        for _ in range(number_of_tries):\n",
    "            result.append(get_score(ds, clusters))\n",
    "        results.append(np.mean(result))\n",
    "        errors.append(np.std(result))\n",
    "    return results, errors\n",
    "\n",
    "\n",
    "def visualize_score_graph_number_of_clusters(ds):\n",
    "    inits = get_k_means_init()\n",
    "    results, errors = get_score_for_number_of_clusters(ds)\n",
    "    plt.errorbar(range(2, 20), results, errors, marker='o', ecolor='red', elinewidth=2, label=\"kmeans ++\")\n",
    "    ax = plt.axes()\n",
    "    ax.set_xlabel(\"Liczba klastrów\")\n",
    "    ax.set_ylabel(\"Współczynnik Davies-Bouldin\")\n",
    "    ax.legend(loc='upper left', numpoints=1)\n",
    "    plt.show()\n",
    "    \n",
    "visualize_score_graph_number_of_clusters(vectors)\n",
    "    "
   ]
  },
  {
   "cell_type": "markdown",
   "metadata": {},
   "source": [
    "# Visualization "
   ]
  },
  {
   "cell_type": "code",
   "execution_count": 56,
   "metadata": {},
   "outputs": [
    {
     "data": {
      "image/png": "[encoded data removed]",
      "text/plain": [
       "<Figure size 1152x720 with 1 Axes>"
      ]
     },
     "metadata": {
      "needs_background": "light"
     },
     "output_type": "display_data"
    }
   ],
   "source": [
    "from sklearn.manifold import TSNE\n",
    "tsne = TSNE(n_components=2, metric='euclidean', perplexity=7).fit_transform(vectors)\n",
    "\n",
    "def visualize_clusetrs(colors = None):\n",
    "    fig, ax = plt.subplots()\n",
    "    ax.scatter(tsne[:,0], tsne[:,1], c = colors, cmap=plt.cm.coolwarm)\n",
    "#     for i, txt in enumerate(countries):\n",
    "#         ax.annotate(txt, (tsne[i][0], tsne[i][1]))\n",
    "    ax.set_xlabel('X')\n",
    "    ax.set_ylabel('Y')\n",
    "    ax.set_title(\"t-SNE\")\n",
    "    plt.show()\n",
    "    \n",
    "kmeans = KMeans(n_clusters=5).fit(vectors)\n",
    "labels = kmeans.labels_\n",
    "visualize_clusetrs(labels)"
   ]
  },
  {
   "cell_type": "code",
   "execution_count": null,
   "metadata": {},
   "outputs": [],
   "source": []
  },
  {
   "cell_type": "code",
   "execution_count": null,
   "metadata": {},
   "outputs": [],
   "source": []
  }
 ],
 "metadata": {
  "kernelspec": {
   "display_name": "conda-nn-env",
   "language": "python",
   "name": "conda-nn-env"
  },
  "language_info": {
   "codemirror_mode": {
    "name": "ipython",
    "version": 3
   },
   "file_extension": ".py",
   "mimetype": "text/x-python",
   "name": "python",
   "nbconvert_exporter": "python",
   "pygments_lexer": "ipython3",
   "version": "3.6.10"
  }
 },
 "nbformat": 4,
 "nbformat_minor": 4
}
